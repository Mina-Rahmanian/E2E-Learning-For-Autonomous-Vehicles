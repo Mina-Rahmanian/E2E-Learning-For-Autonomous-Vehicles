# E2E Deep Learning for AV Control Using Udacity's Car Simulator Environment
## Mina Rahmanian
### Master of Queen's University,CA


## Install Dependencies
!pip3 install imgaug

## Importing Python libraries
import numpy as np
import pandas as pd
import matplotlib.pyplot as plt
import cv2
from sklearn.model_selection import train_test_split
import random
from sklearn.utils import shuffle
import matplotlib.image as mpimg
import os
import gc
import ntpath
import json
from imgaug import augmenters as iaa
import skimage.transform as sktransform

# keras
import keras
from keras.models import Sequential
from keras.optimizers import Adam
from keras.layers import Convolution2D, MaxPooling2D,Dense,Flatten,Dropout
from keras import backend as K


## Load data
# Columns: ['center', 'left', 'right', 'steering', 'throttle', 'brake', 'speed']

dataload = '/content/gdrive/My Drive/car/data'
data_dir = pd.read_csv(os.path.join(dataload, 'driving_log.csv'))
pd.set_option('display.max_colwidth', -1)
data_dir.head(5)



def path_leaf(path):
  head, tail = ntpath.split(path)
  return tail

data_dir['center'] = data_dir['center'].apply(path_leaf)
data_dir['left'] = data_dir['left'].apply(path_leaf)
data_dir['right'] = data_dir['right'].apply(path_leaf)
data_dir.head(200)


data_dir.describe()


## Signal with `savgol_filter`
# Smooth data signal with `savgol_filter`
import scipy
from scipy import signal

# data_dir["steering"] = signal.savgol_filter(data_dir["steering"].values.tolist(), 43, 17)
data_dir["steering"] = signal.savgol_filter(data_dir["steering"].values.tolist(), 51, 11)
data_dir["speed"] = signal.savgol_filter(data_dir["speed"].values.tolist(), 25, 15)


data_dir.head(200)

data_dir.describe()



## Dataset distribution
# Data distribution
new=data_dir['steering']
steer=list(new)

plt.figure(figsize=(14,8))
x = [range(len(steer))]
x = np.squeeze(np.asarray(x))
y = np.asarray(steer)

# plot
plt.xlim(0,8000)
plt.title('Data Distribution', fontsize=22)
plt.xlabel('Frames', fontsize=16)
plt.ylabel('Steering Angle', fontsize=16)
plt.plot(x,y, 'g', linewidth=0.4)
plt.show()


## Dataset Balance
# Visualize data
num_bins = 25
samples_per_bin = 180  #400  #200

hist, bins = np.histogram(data_dir['steering'], num_bins)
center = (bins[:-1]+ bins[1:]) * 0.5

# Plot
fig= plt.figure(figsize=(10,7))
plt.bar(center, hist, width=0.05)
plt.plot((np.min(data_dir['steering']), np.max(data_dir['steering'])), (samples_per_bin, samples_per_bin),'r')
plt.title('Before balance control', fontsize=22)
plt.xlabel('steering angle', fontsize=15)
plt.ylabel('counts', fontsize=15)



data = data_dir
print('total data: ',len(data))

# Make list of indices to remove
remove_list=[]

for j in range(num_bins):
    list_=[]
    for i in range(len(data['steering'])):
        if data['steering'][i] > bins[j] and data['steering'][i] <= bins[j+1]:
            list_.append(i)
    list_=shuffle(list_)
    list_=list_[samples_per_bin:]
    remove_list.extend(list_)


# Remove from extras from list   
print('removed data: ',len(remove_list))
data.drop(data.index[remove_list],inplace=True)
print('remainig data: ',len(data))


# Plot
hist, _ = np.histogram(data['steering'],(num_bins))

fig= plt.figure(figsize=(10,7))
plt.bar(center,hist,width=0.05)
plt.plot((np.min(data['steering']),np.max(data['steering'])),(samples_per_bin,samples_per_bin),'r')































