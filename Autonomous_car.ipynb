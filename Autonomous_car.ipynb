# E2E Deep Learning for AV Control Using Udacity's Car Simulator Environment
## Mina Rahmanian
### Master of Queen's University,CA


## Install Dependencies
!pip3 install imgaug

## Importing Python libraries
import numpy as np
import pandas as pd
import matplotlib.pyplot as plt
import cv2
from sklearn.model_selection import train_test_split
import random
from sklearn.utils import shuffle
import matplotlib.image as mpimg
import os
import gc
import ntpath
import json
from imgaug import augmenters as iaa
import skimage.transform as sktransform

# keras
import keras
from keras.models import Sequential
from keras.optimizers import Adam
from keras.layers import Convolution2D, MaxPooling2D,Dense,Flatten,Dropout
from keras import backend as K


## Load data
# Columns: ['center', 'left', 'right', 'steering', 'throttle', 'brake', 'speed']

dataload = '/content/gdrive/My Drive/car/data'
data_dir = pd.read_csv(os.path.join(dataload, 'driving_log.csv'))
pd.set_option('display.max_colwidth', -1)
data_dir.head(5)



def path_leaf(path):
  head, tail = ntpath.split(path)
  return tail

data_dir['center'] = data_dir['center'].apply(path_leaf)
data_dir['left'] = data_dir['left'].apply(path_leaf)
data_dir['right'] = data_dir['right'].apply(path_leaf)
data_dir.head(200)



