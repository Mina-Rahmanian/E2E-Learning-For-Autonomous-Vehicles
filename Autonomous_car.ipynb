# E2E Deep Learning for AV Control Using Udacity's Car Simulator Environment
## Mina Rahmanian
### Master of Project at Queen's University


## Install Dependencies

!pip uninstall tensorflow
!pip install tensorflow==2.0

!pip uninstall keras
!pip install Keras==2.3.0

import tensorflow as tf
tf.__version__

!python -c 'import keras; print(keras.__version__)'

!pip3 install imgaug
