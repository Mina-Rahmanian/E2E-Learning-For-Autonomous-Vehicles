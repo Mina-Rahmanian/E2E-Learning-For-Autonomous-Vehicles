# E2E Deep Learning for AV Control Using Udacity's Car Simulator Environment
## Mina Rahmanian
### Master of Project at Queen's University

